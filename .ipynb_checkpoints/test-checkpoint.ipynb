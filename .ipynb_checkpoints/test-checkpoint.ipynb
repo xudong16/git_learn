{
 "cells": [
  {
   "cell_type": "code",
   "id": "initial_id",
   "metadata": {
    "collapsed": true,
    "ExecuteTime": {
     "end_time": "2024-04-08T12:41:40.627662Z",
     "start_time": "2024-04-08T12:41:29.744576Z"
    }
   },
   "source": [
    "import random\n",
    "while True:\n",
    "    num = input(\"请输入投掷次数：\")\n",
    "    count = 0\n",
    "    for t in range(1, int(num)):\n",
    "        if (random.uniform(-1, 1)**2 + random.uniform(-1, 1)**2) < 1:\n",
    "            count += 1\n",
    "    print(f\"圆周率近似值为；{count / int(num) * 4}\")\n",
    "    if input(\"是否继续？(y/n)\") == \"n\":\n",
    "        break"
   ],
   "outputs": [
    {
     "name": "stdout",
     "output_type": "stream",
     "text": [
      "圆周率近似值为；3.18\n"
     ]
    }
   ],
   "execution_count": 4
  },
  {
   "metadata": {},
   "cell_type": "code",
   "outputs": [],
   "execution_count": null,
   "source": "",
   "id": "4a5d80948cf78c09"
  }
 ],
 "metadata": {
  "kernelspec": {
   "display_name": "Python 3",
   "language": "python",
   "name": "python3"
  },
  "language_info": {
   "codemirror_mode": {
    "name": "ipython",
    "version": 2
   },
   "file_extension": ".py",
   "mimetype": "text/x-python",
   "name": "python",
   "nbconvert_exporter": "python",
   "pygments_lexer": "ipython2",
   "version": "2.7.6"
  }
 },
 "nbformat": 4,
 "nbformat_minor": 5
}
