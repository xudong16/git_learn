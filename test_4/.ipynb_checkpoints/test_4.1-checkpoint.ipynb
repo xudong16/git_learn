{
 "cells": [
  {
   "cell_type": "code",
   "id": "initial_id",
   "metadata": {
    "collapsed": true,
    "ExecuteTime": {
     "end_time": "2024-04-15T08:48:06.021245Z",
     "start_time": "2024-04-15T08:48:06.014362Z"
    }
   },
   "source": [
    "import random  \n",
    "  \n",
    "# 生成1000个1-10000之间的随机数  \n",
    "random_numbers = [random.randint(1, 10000) for _ in range(1000)]  "
   ],
   "outputs": [],
   "execution_count": 2
  },
  {
   "metadata": {
    "ExecuteTime": {
     "end_time": "2024-04-15T08:48:08.687601Z",
     "start_time": "2024-04-15T08:48:08.680046Z"
    }
   },
   "cell_type": "code",
   "source": [
    "# 载入列表 \n",
    "list_data = list(random_numbers)  "
   ],
   "id": "5771f3115fb964f3",
   "outputs": [],
   "execution_count": 3
  },
  {
   "metadata": {
    "ExecuteTime": {
     "end_time": "2024-04-15T08:48:09.757786Z",
     "start_time": "2024-04-15T08:48:09.748948Z"
    }
   },
   "cell_type": "code",
   "source": [
    "# 载入元组（注意：元组是不可变的，所以不支持添加或删除操作）  \n",
    "tuple_data = tuple(random_numbers)  "
   ],
   "id": "11e8c5874cac338",
   "outputs": [],
   "execution_count": 4
  },
  {
   "metadata": {
    "ExecuteTime": {
     "end_time": "2024-04-15T08:48:11.309252Z",
     "start_time": "2024-04-15T08:48:11.300924Z"
    }
   },
   "cell_type": "code",
   "source": [
    "# 载入字典（这里假设我们将随机数作为键，值可以是任意固定值，比如None）  \n",
    "dict_data = {num: None for num in random_numbers}"
   ],
   "id": "9bf70d279f8306f",
   "outputs": [],
   "execution_count": 5
  },
  {
   "metadata": {
    "ExecuteTime": {
     "end_time": "2024-04-15T08:48:12.521729Z",
     "start_time": "2024-04-15T08:48:12.513597Z"
    }
   },
   "cell_type": "code",
   "source": [
    "# 载入集合（集合中的元素是唯一的，所以重复的随机数会被移除）  \n",
    "set_data = set(random_numbers)"
   ],
   "id": "634fc77b75204498",
   "outputs": [],
   "execution_count": 6
  },
  {
   "metadata": {},
   "cell_type": "code",
   "outputs": [],
   "execution_count": null,
   "source": "",
   "id": "bf08af29e1799e7"
  }
 ],
 "metadata": {
  "kernelspec": {
   "display_name": "Python 3",
   "language": "python",
   "name": "python3"
  },
  "language_info": {
   "codemirror_mode": {
    "name": "ipython",
    "version": 2
   },
   "file_extension": ".py",
   "mimetype": "text/x-python",
   "name": "python",
   "nbconvert_exporter": "python",
   "pygments_lexer": "ipython2",
   "version": "2.7.6"
  }
 },
 "nbformat": 4,
 "nbformat_minor": 5
}
