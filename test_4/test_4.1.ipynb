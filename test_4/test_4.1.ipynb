{
 "cells": [
  {
   "cell_type": "code",
   "execution_count": 2,
   "id": "initial_id",
   "metadata": {
    "ExecuteTime": {
     "end_time": "2024-04-15T08:48:06.021245Z",
     "start_time": "2024-04-15T08:48:06.014362Z"
    }
   },
   "outputs": [],
   "source": [
    "import random  \n",
    "  \n",
    "# 生成1000个1-10000之间的随机数  \n",
    "random_numbers = [random.randint(1, 10000) for _ in range(1000)]  \n",
    "  \n",
    "# 载入列表  \n",
    "list_data = list(random_numbers)  \n",
    "  \n",
    "# 载入元组（注意：元组是不可变的，所以不支持添加或删除操作）  \n",
    "tuple_data = tuple(random_numbers)  \n",
    "  \n",
    "# 载入字典（这里假设我们将随机数作为键，值可以是任意固定值，比如None）  \n",
    "dict_data = {num: None for num in random_numbers}  \n",
    "  \n",
    "# 载入集合（集合中的元素是唯一的，所以重复的随机数会被移除）  \n",
    "set_data = set(random_numbers)"
   ]
  },
  {
   "cell_type": "code",
   "execution_count": null,
   "id": "a75ec5e1-92b7-4b6c-9d47-0c459aae74df",
   "metadata": {},
   "outputs": [],
   "source": []
  }
 ],
 "metadata": {
  "kernelspec": {
   "display_name": "Python 3 (ipykernel)",
   "language": "python",
   "name": "python3"
  },
  "language_info": {
   "codemirror_mode": {
    "name": "ipython",
    "version": 3
   },
   "file_extension": ".py",
   "mimetype": "text/x-python",
   "name": "python",
   "nbconvert_exporter": "python",
   "pygments_lexer": "ipython3",
   "version": "3.12.1"
  }
 },
 "nbformat": 4,
 "nbformat_minor": 5
}
