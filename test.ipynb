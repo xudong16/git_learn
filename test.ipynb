{
 "cells": [
  {
   "cell_type": "code",
   "id": "initial_id",
   "metadata": {
    "ExecuteTime": {
     "end_time": "2024-04-15T08:45:23.444950Z",
     "start_time": "2024-04-15T08:44:58.342603Z"
    }
   },
   "source": [
    "import random\n",
    "while True:\n",
    "    num = input(\"请输入投掷次数：\")\n",
    "    count = 0\n",
    "    for t in range(1, int(num)):\n",
    "        if (random.uniform(-1, 1)**2 + random.uniform(-1, 1)**2) < 1:\n",
    "            count += 1\n",
    "    print(f\"圆周率近似值为；{count / int(num) * 4}\")\n",
    "    if input(\"是否继续？(y/n)\") == \"n\":\n",
    "        break"
   ],
   "outputs": [
    {
     "name": "stdout",
     "output_type": "stream",
     "text": [
      "圆周率近似值为；3.072\n"
     ]
    }
   ],
   "execution_count": 1
  },
  {
   "cell_type": "code",
   "execution_count": null,
   "id": "6331484f638fee5",
   "metadata": {
    "ExecuteTime": {
     "end_time": "2024-04-08T14:39:43.967418Z",
     "start_time": "2024-04-08T14:39:43.961829Z"
    }
   },
   "outputs": [],
   "source": []
  },
  {
   "cell_type": "code",
   "execution_count": null,
   "id": "655f4361d72e0814",
   "metadata": {},
   "outputs": [],
   "source": []
  }
 ],
 "metadata": {
  "kernelspec": {
   "display_name": "Python 3 (ipykernel)",
   "language": "python",
   "name": "python3"
  },
  "language_info": {
   "codemirror_mode": {
    "name": "ipython",
    "version": 3
   },
   "file_extension": ".py",
   "mimetype": "text/x-python",
   "name": "python",
   "nbconvert_exporter": "python",
   "pygments_lexer": "ipython3",
   "version": "3.12.1"
  }
 },
 "nbformat": 4,
 "nbformat_minor": 5
}
